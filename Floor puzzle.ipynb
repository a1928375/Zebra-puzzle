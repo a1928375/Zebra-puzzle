{
 "cells": [
  {
   "cell_type": "code",
   "execution_count": 3,
   "metadata": {},
   "outputs": [
    {
     "name": "stdout",
     "output_type": "stream",
     "text": [
      "[3, 2, 4, 5, 1]\n"
     ]
    }
   ],
   "source": [
    "import itertools\n",
    "\n",
    "def floor_puzzle():\n",
    "    \n",
    "    floor = [1,2,3,4,5]\n",
    "    \n",
    "    orderings = list(itertools.permutations(floor))                              #列出all排列組合\n",
    "    \n",
    "    return next([Hopper, Kay, Liskov, Perlis, Ritchie]\n",
    "                \n",
    "                for (Hopper, Kay, Liskov, Perlis, Ritchie) in orderings          #讓names連結排列組合\n",
    "                    \n",
    "                if Hopper != 5                                                   # conditions\n",
    "                if Kay != 1\n",
    "                if Liskov !=1 and Liskov != 5\n",
    "                if Perlis > Kay\n",
    "                if Ritchie-1 != Liskov and Ritchie+1 != Liskov\n",
    "                if Liskov-1 != Kay and Liskov+1 != Kay\n",
    "                \n",
    "                )\n",
    "\n",
    "print (floor_puzzle())"
   ]
  }
 ],
 "metadata": {
  "kernelspec": {
   "display_name": "Python 3",
   "language": "python",
   "name": "python3"
  },
  "language_info": {
   "codemirror_mode": {
    "name": "ipython",
    "version": 3
   },
   "file_extension": ".py",
   "mimetype": "text/x-python",
   "name": "python",
   "nbconvert_exporter": "python",
   "pygments_lexer": "ipython3",
   "version": "3.7.3"
  }
 },
 "nbformat": 4,
 "nbformat_minor": 2
}
